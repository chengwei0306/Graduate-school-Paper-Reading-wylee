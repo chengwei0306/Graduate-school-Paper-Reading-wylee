{
  "nbformat": 4,
  "nbformat_minor": 0,
  "metadata": {
    "colab": {
      "provenance": []
    },
    "kernelspec": {
      "name": "python3",
      "display_name": "Python 3"
    },
    "language_info": {
      "name": "python"
    }
  },
  "cells": [
    {
      "cell_type": "code",
      "execution_count": 7,
      "metadata": {
        "colab": {
          "base_uri": "https://localhost:8080/"
        },
        "id": "D7zERqEv6cwS",
        "outputId": "1dd45b2e-e891-4a2c-ab2a-6f91a84aae00"
      },
      "outputs": [
        {
          "output_type": "stream",
          "name": "stdout",
          "text": [
            "Looking in indexes: https://pypi.org/simple, https://us-python.pkg.dev/colab-wheels/public/simple/\n",
            "Requirement already satisfied: yfinance in /usr/local/lib/python3.7/dist-packages (0.1.87)\n",
            "Requirement already satisfied: multitasking>=0.0.7 in /usr/local/lib/python3.7/dist-packages (from yfinance) (0.0.11)\n",
            "Requirement already satisfied: pandas>=0.24.0 in /usr/local/lib/python3.7/dist-packages (from yfinance) (1.3.5)\n",
            "Requirement already satisfied: numpy>=1.15 in /usr/local/lib/python3.7/dist-packages (from yfinance) (1.21.6)\n",
            "Requirement already satisfied: appdirs>=1.4.4 in /usr/local/lib/python3.7/dist-packages (from yfinance) (1.4.4)\n",
            "Requirement already satisfied: requests>=2.26 in /usr/local/lib/python3.7/dist-packages (from yfinance) (2.28.1)\n",
            "Requirement already satisfied: lxml>=4.5.1 in /usr/local/lib/python3.7/dist-packages (from yfinance) (4.9.1)\n",
            "Requirement already satisfied: python-dateutil>=2.7.3 in /usr/local/lib/python3.7/dist-packages (from pandas>=0.24.0->yfinance) (2.8.2)\n",
            "Requirement already satisfied: pytz>=2017.3 in /usr/local/lib/python3.7/dist-packages (from pandas>=0.24.0->yfinance) (2022.6)\n",
            "Requirement already satisfied: six>=1.5 in /usr/local/lib/python3.7/dist-packages (from python-dateutil>=2.7.3->pandas>=0.24.0->yfinance) (1.15.0)\n",
            "Requirement already satisfied: idna<4,>=2.5 in /usr/local/lib/python3.7/dist-packages (from requests>=2.26->yfinance) (2.10)\n",
            "Requirement already satisfied: certifi>=2017.4.17 in /usr/local/lib/python3.7/dist-packages (from requests>=2.26->yfinance) (2022.9.24)\n",
            "Requirement already satisfied: charset-normalizer<3,>=2 in /usr/local/lib/python3.7/dist-packages (from requests>=2.26->yfinance) (2.1.1)\n",
            "Requirement already satisfied: urllib3<1.27,>=1.21.1 in /usr/local/lib/python3.7/dist-packages (from requests>=2.26->yfinance) (1.24.3)\n"
          ]
        }
      ],
      "source": [
        "!pip install yfinance"
      ]
    },
    {
      "cell_type": "code",
      "source": [
        "import pandas as pd                                #導入 pandas套件\n",
        "import yfinance as yf                              #導入 finance套件\n",
        "\n",
        "tickers = ['AAPL']   #設置股票代碼\n",
        "# start_date = '2021-11-08'                          #設定開始日期\n",
        "# end_date = '2022-11-08'                            #設定結束日期\n",
        "start_date = '2021-11-15'                          #設定開始日期\n",
        "end_date = '2022-11-15'                            #設定結束日期\n",
        "\n",
        "data = yf.download(tickers, start_date, end_date)  #獲取股票數據存取變量\n",
        "data['Date']=data.index\n",
        "\n",
        "data=data[['Adj Close','Volume','Date']]               #取出調整後收盤價\n",
        "Close=list(data.iloc[:,0])\n",
        "Volume=list(data.iloc[:,1])\n",
        "Date=list(data.iloc[:,2])\n",
        "# print(len(Close))\n",
        "print(Volume)"
      ],
      "metadata": {
        "colab": {
          "base_uri": "https://localhost:8080/"
        },
        "id": "ytDogTif7CSy",
        "outputId": "24abad95-55b4-4117-dd19-db5682a5c3e4"
      },
      "execution_count": 8,
      "outputs": [
        {
          "output_type": "stream",
          "name": "stdout",
          "text": [
            "\r[*********************100%***********************]  1 of 1 completed\n",
            "[59222800, 59256200, 88807000, 137827700, 117305600, 117467900, 96041900, 69463600, 76959800, 88748200, 174048100, 152052500, 136739200, 118023100, 107497000, 120405400, 116998900, 108923700, 115402700, 153237000, 139380400, 131063300, 150185800, 195432700, 107499100, 91185900, 92135300, 68356600, 74919600, 79144300, 62348900, 59773000, 64062300, 104487900, 99310400, 94537600, 96904000, 86709100, 106765600, 76138300, 74805200, 84505800, 80440800, 90956700, 94815000, 91420500, 122848900, 162294600, 115798400, 108275300, 121954600, 179935700, 115541600, 86213900, 84914300, 89418100, 82465400, 77251200, 74829200, 71285000, 90865900, 98670700, 86185500, 62527400, 61177400, 69589300, 82772700, 91162800, 90009200, 141147500, 91974200, 95056600, 83474400, 79724800, 76678400, 83737200, 96418800, 131148300, 91454900, 105342000, 96970100, 108732100, 92964300, 102300200, 75615400, 123511700, 95811400, 81532000, 98062700, 90131400, 80546200, 90371900, 100589400, 92633200, 103049300, 78751300, 76468400, 73401800, 89058800, 77594700, 76575500, 72246700, 79265200, 70618900, 75329400, 69023900, 67723800, 67929800, 87227800, 84882400, 96046400, 95623200, 88063200, 130216800, 131747600, 123055300, 88966500, 108256500, 130525300, 116124600, 131577900, 115366700, 142689800, 182602000, 113990900, 86643800, 78336300, 109742900, 136095600, 137426100, 117726300, 104132700, 92482700, 90601500, 90978500, 103718400, 74286600, 72348100, 88570300, 71598400, 67808200, 53950200, 69473000, 91437900, 122207100, 84784300, 91533000, 108123900, 134520300, 81000500, 73409200, 72433800, 89116800, 70207900, 67083400, 66242400, 98964500, 71051600, 73353800, 74064300, 66253700, 64547800, 63141600, 77588800, 71185600, 78140700, 76259900, 81420900, 82982400, 64823400, 65086600, 66675400, 53623900, 55138700, 78620700, 81378700, 101786900, 67829400, 59907000, 82507500, 55474100, 56697000, 60276900, 63135500, 70170500, 57149200, 68039400, 54091700, 56377100, 79542000, 62290100, 70346300, 69026800, 54147100, 53841500, 51218200, 78961000, 73314000, 77906200, 87991100, 74229900, 76957800, 73714800, 87449600, 84923800, 68028800, 104956000, 122656600, 87965400, 90481100, 162278800, 81474200, 107689800, 101696800, 86652500, 96029900, 93339400, 84442700, 146691400, 128138200, 124925300, 114311700, 87830100, 79471000, 68402200, 85925600, 74899000, 77033700, 70433700, 113224000, 88598000, 85250900, 99136600, 61758300, 64522000, 86548600, 75981900, 74732300, 88194300, 109180200, 164762400, 97943200, 80379300, 93604600, 97918500, 140716700, 83374600, 89908500, 74917800, 118854000, 93903800, 73374100]\n"
          ]
        }
      ]
    },
    {
      "cell_type": "code",
      "source": [
        "import numpy as np\n",
        "V0=np.mean(Volume)\n",
        "V0"
      ],
      "metadata": {
        "colab": {
          "base_uri": "https://localhost:8080/"
        },
        "id": "hvKFor_r_eSx",
        "outputId": "02b3c6fc-0f3c-4a60-afff-9e7f923ac232"
      },
      "execution_count": 9,
      "outputs": [
        {
          "output_type": "execute_result",
          "data": {
            "text/plain": [
              "91832511.90476191"
            ]
          },
          "metadata": {},
          "execution_count": 9
        }
      ]
    },
    {
      "cell_type": "code",
      "source": [
        "def RareEvent(n,end_date):\n",
        "  a=[]\n",
        "  b=[]\n",
        "  volume=0\n",
        "  \n",
        "  for i in range(0,n):                  #len of all\n",
        "    volume=0\n",
        "    for j in range(i):                  #from j to i\n",
        "      volume+=Volume[j]\n",
        "      if volume<V0:                     #5% percent \n",
        "        a.append(Close[n]-Close[i])\n",
        "        b.append([end_date,Date[i]])\n",
        "        # print(a)\n",
        "        \n",
        "  print(max(a))\n",
        "  print(b[-1:])\n",
        "    # print(volume)\n",
        "    # print(\"------\")\n",
        "\n",
        "RareEvent(251,end_date)"
      ],
      "metadata": {
        "colab": {
          "base_uri": "https://localhost:8080/"
        },
        "id": "7cqlPlDQcOI6",
        "outputId": "710d0056-d6f1-4215-e639-3f3904e8d211"
      },
      "execution_count": 6,
      "outputs": [
        {
          "output_type": "stream",
          "name": "stdout",
          "text": [
            "18.615509033203125\n",
            "[['2022-11-15', Timestamp('2022-11-11 00:00:00')]]\n"
          ]
        }
      ]
    },
    {
      "cell_type": "code",
      "source": [
        "# data.to_csv('AAPL.csv')"
      ],
      "metadata": {
        "id": "HQI3SBCd7VJd"
      },
      "execution_count": null,
      "outputs": []
    },
    {
      "cell_type": "code",
      "source": [
        "def RareEvent(n,end_date):\n",
        "  a=[]\n",
        "  b=[]\n",
        "  c=[]\n",
        "  volume=0\n",
        "  \n",
        "  for i in range(0,n):                  #len of all\n",
        "    for j in range(i):                    #from j to i\n",
        "      volume+=Volume[j]\n",
        "      c.append([volume,Date[i]])\n",
        "  for k in c:\n",
        "    if k[0]<V0:                      #5% percent \n",
        "      a.append(Close[n]-Close[i])\n",
        "      b.append([end_date,k[1]])\n",
        "      # print(a)\n",
        "        \n",
        "  print(max(a))\n",
        "  print(b)\n",
        "    # print(volume)\n",
        "    # print(\"------\")\n",
        "\n",
        "RareEvent(251,end_date)"
      ],
      "metadata": {
        "colab": {
          "base_uri": "https://localhost:8080/"
        },
        "outputId": "0ca3f4f1-1a4a-4bb8-d9e8-5f02c614902f",
        "id": "fwJ_CgRuPuuM"
      },
      "execution_count": null,
      "outputs": [
        {
          "output_type": "stream",
          "name": "stdout",
          "text": [
            "18.615509033203125\n",
            "[['2022-11-15', Timestamp('2021-11-16 00:00:00')]]\n"
          ]
        }
      ]
    }
  ]
}
